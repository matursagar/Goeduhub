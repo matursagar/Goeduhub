{
  "nbformat": 4,
  "nbformat_minor": 0,
  "metadata": {
    "colab": {
      "name": "Assignment3_Dictionaries.ipynb",
      "provenance": [],
      "collapsed_sections": []
    },
    "kernelspec": {
      "name": "python3",
      "display_name": "Python 3"
    },
    "language_info": {
      "name": "python"
    }
  },
  "cells": [
    {
      "cell_type": "markdown",
      "metadata": {
        "id": "KLdOWbr9Qxxq"
      },
      "source": [
        "#Assignment 3: Dictionaries and Sets\n",
        "\n",
        "##Sagar Matur\n",
        "GO_STP_6290"
      ]
    },
    {
      "cell_type": "markdown",
      "metadata": {
        "id": "xYIJCl6BRny5"
      },
      "source": [
        "1 Write a Python Program to sort (ascending and descending) a dictionary by value. "
      ]
    },
    {
      "cell_type": "code",
      "metadata": {
        "colab": {
          "base_uri": "https://localhost:8080/"
        },
        "id": "WSpFtZtxQrYQ",
        "outputId": "b893eb7d-5bf0-47c2-94a2-ba2f2d91c2da"
      },
      "source": [
        "import operator\n",
        "d = {1: 'Amit', 3: 'Sachin', 4: 'Virat', 2: 'Rohit', 0: 'Bhuvan'}\n",
        "print('Original dictionary : ',d)\n",
        "sorted_d = dict( sorted(d.items(), key=operator.itemgetter(1)))\n",
        "print('Dictionary in ascending order by value : ',sorted_d)\n",
        "sorted_d = dict( sorted(d.items(), key=operator.itemgetter(1),reverse=True))\n",
        "print('Dictionary in descending order by value : ',sorted_d)\n"
      ],
      "execution_count": null,
      "outputs": [
        {
          "output_type": "stream",
          "text": [
            "Original dictionary :  {1: 'Amit', 3: 'Sachin', 4: 'Virat', 2: 'Rohit', 0: 'Bhuvan'}\n",
            "Dictionary in ascending order by value :  {1: 'Amit', 0: 'Bhuvan', 2: 'Rohit', 3: 'Sachin', 4: 'Virat'}\n",
            "Dictionary in descending order by value :  {4: 'Virat', 3: 'Sachin', 2: 'Rohit', 0: 'Bhuvan', 1: 'Amit'}\n"
          ],
          "name": "stdout"
        }
      ]
    },
    {
      "cell_type": "markdown",
      "metadata": {
        "id": "GUNjO5-pV8Lq"
      },
      "source": [
        "2 Write a Python Program to add a key to a dictionary.  \\\\\n",
        "Sample Dictionary : {0: 10, 1: 20} \\\\\n",
        "Expected Result : {0: 10, 1: 20, 2: 30}\n"
      ]
    },
    {
      "cell_type": "code",
      "metadata": {
        "colab": {
          "base_uri": "https://localhost:8080/"
        },
        "id": "Kig0K7QZVqu0",
        "outputId": "df8a763d-2b4a-47de-96a8-6e2ca1ec6619"
      },
      "source": [
        "sd = {0: 10, 1: 20}\n",
        "print(\"The sample dictionary is: \",sd)\n",
        "sd[2] = 30\n",
        "print(\"The expected dictionary is: \",sd)"
      ],
      "execution_count": null,
      "outputs": [
        {
          "output_type": "stream",
          "text": [
            "The sample dictionary is:  {0: 10, 1: 20}\n",
            "The expected dictionary is:  {0: 10, 1: 20, 2: 30}\n"
          ],
          "name": "stdout"
        }
      ]
    },
    {
      "cell_type": "markdown",
      "metadata": {
        "id": "QEsgqgG3XTFo"
      },
      "source": [
        "3 Write a  program asks for City name and Temperature and builds a dictionary using that Later on you can input City name and it will tell you the Temperature of that City."
      ]
    },
    {
      "cell_type": "code",
      "metadata": {
        "colab": {
          "base_uri": "https://localhost:8080/"
        },
        "id": "zP7nMkw2WpS6",
        "outputId": "0c925ca6-ab07-4521-acad-7bf46e164a80"
      },
      "source": [
        "city_temp = {'Delhi': 34, 'Kolkata': 33, 'Mumbai': 30, 'Bengaluru': 29, 'Hyderabad': 31, 'Chennai': 34}\n",
        "city_name = input(\"Enter the city name: \")\n",
        "print(\"The temprature of\", city_name,\"city is\",city_temp[city_name])"
      ],
      "execution_count": null,
      "outputs": [
        {
          "output_type": "stream",
          "text": [
            "Enter the city name: Mumbai\n",
            "The temprature of Mumbai city is 30\n"
          ],
          "name": "stdout"
        }
      ]
    },
    {
      "cell_type": "markdown",
      "metadata": {
        "id": "lqV5jbA0axis"
      },
      "source": [
        "4 Write a Python program to convert list to list of dictionaries. \\\\\n",
        "Sample lists: [\"Black\", \"Red\", \"Maroon\", \"Yellow\"], [\"#000000\", \"#FF0000\", \"#800000\", \"#FFFF00\"] \\\\\n",
        "Expected Output: [{'color_name': 'Black', 'color_code': '#000000'}, {'color_name': 'Red', 'color_code': '#FF0000'}, {'color_name': 'Maroon', 'color_code': '#800000'}, {'color_name': 'Yellow', 'color_code': '#FFFF00'}]\n"
      ]
    },
    {
      "cell_type": "code",
      "metadata": {
        "colab": {
          "base_uri": "https://localhost:8080/"
        },
        "id": "T0mD4OggZh_Z",
        "outputId": "6bc2c2d4-f016-4887-d83d-7c5b8f360962"
      },
      "source": [
        "color_name = [\"Black\", \"Red\", \"Maroon\", \"Yellow\"]\n",
        "color_code = [\"#000000\", \"#FF0000\", \"#800000\", \"#FFFF00\"]\n",
        "print([{'color_name': n, 'color_code': c} for n, c in zip(color_name, color_code)])\n",
        "\n"
      ],
      "execution_count": null,
      "outputs": [
        {
          "output_type": "stream",
          "text": [
            "[{'color_name': 'Black', 'color_code': '#000000'}, {'color_name': 'Red', 'color_code': '#FF0000'}, {'color_name': 'Maroon', 'color_code': '#800000'}, {'color_name': 'Yellow', 'color_code': '#FFFF00'}]\n"
          ],
          "name": "stdout"
        }
      ]
    },
    {
      "cell_type": "markdown",
      "metadata": {
        "id": "ZWbRjPzOcQWZ"
      },
      "source": [
        "5 We have following information on Employees and their Salary (Salary is in lakhs), \\\\\n",
        "Employee\tSalary \\\\\n",
        "John      \t14 \\\\\n",
        "Smith\t      13 \\\\\n",
        "Alice\t      32 \\\\\n",
        "Daneil\t    21 \\\\\n",
        "1.\tUsing above create a dictionary of Employees and their Salary\n",
        "2.\tWrite a program that asks user for three type of inputs, \\\\\n",
        "a.\tprint: if user enter print then it should print all Employees with their Salary in this format, \\\\\n",
        "1 .\tJohn ==>14 \\\\\n",
        "2 .\tSmith ==>13 \\\\\n",
        "3 .\tAlice ==>32 \\\\\n",
        "4 .\t Daneil ==>21 \\\\\n",
        "b.\tadd: if user input adds then it should further ask for an Employee name to add. If Employee already exists in our dataset then it should print that it exists and do nothing. If it doesn't then it asks for Salary and add that new Employee/Salary in our dictionary and print it \\\\\n",
        "c.\tremove: when user inputs remove it should ask for an Employee to remove. If an Employee exists in our dictionary then remove it and print a new dictionary using format shown above in (a). Else print that Employee doesn't exist! \\\\\n",
        "d.\tquery: on this again ask the user for which Employee he or she wants to query. When a user inputs that Employee it will print the Salary of that Employee.\n"
      ]
    },
    {
      "cell_type": "code",
      "metadata": {
        "colab": {
          "base_uri": "https://localhost:8080/"
        },
        "id": "ae4w6II8cAiY",
        "outputId": "429f33cd-b17f-43ed-d4a3-eed7415cb811"
      },
      "source": [
        "emp_salary = {'John':14, 'Smith':13, 'Alice':32, 'Daniel':21}\n",
        "print(emp_salary)"
      ],
      "execution_count": 68,
      "outputs": [
        {
          "output_type": "stream",
          "text": [
            "{'John': 14, 'Smith': 13, 'Alice': 32, 'Daniel': 21}\n"
          ],
          "name": "stdout"
        }
      ]
    },
    {
      "cell_type": "code",
      "metadata": {
        "id": "aa7dshzJm9KJ",
        "colab": {
          "base_uri": "https://localhost:8080/"
        },
        "outputId": "d5072d08-67e7-4397-a841-9a2bff46c82b"
      },
      "source": [
        "option = int(input(\"Please select any one of the following options \\n For print press 1 \\n For add press 2 \\n For remove press 3 \\n For query press 4 \\n\"))\n",
        "if option == 1:\n",
        "  for i, j in zip(emp_salary.keys(), emp_salary.values()):\n",
        "    print(i, '==>', j)\n",
        "elif option == 2:\n",
        "  emp_name = input(\"Please enter the new employee name:\")\n",
        "  if emp_name in emp_salary.keys():\n",
        "    print(\"employee already exists\")\n",
        "  else:\n",
        "    emp_sal = int(input(\"Enter the Salary: \"))\n",
        "    emp_salary[emp_name]=emp_sal\n",
        "    print(\"The updated Employee records:\",emp_salary)\n",
        "elif option == 3:\n",
        "  emp_name = input(\"Enter the employee name to be removed:\")\n",
        "  if emp_name in emp_salary.keys():\n",
        "    emp_salary.pop(emp_name)\n",
        "    new_emp = emp_salary\n",
        "    print(\"The updated Employee records:\",new_emp)\n",
        "  else:\n",
        "    print(\"Employee doesn't exist!\")\n",
        "elif option == 4:\n",
        "  emp_name = input(\"Enter the employee name for which you wants to query:\")\n",
        "  if emp_name in emp_salary.keys():\n",
        "    print(\"The salary of\",emp_name,\"is:\",emp_salary[emp_name])\n",
        "  else:\n",
        "    print(\"Employee doesn't exist!\")"
      ],
      "execution_count": 90,
      "outputs": [
        {
          "output_type": "stream",
          "text": [
            "Please select any one of the following options \n",
            " For print press 1 \n",
            " For add press 2 \n",
            " For remove press 3 \n",
            " For query press 4 \n",
            "4\n",
            "Enter the employee name for which you wants to query:Sagar\n",
            "The salary of Sagar is: 25\n"
          ],
          "name": "stdout"
        }
      ]
    },
    {
      "cell_type": "markdown",
      "metadata": {
        "id": "YjYWGZBZd4RU"
      },
      "source": [
        "### Questions on Sets"
      ]
    },
    {
      "cell_type": "markdown",
      "metadata": {
        "id": "mfp4B820d_7R"
      },
      "source": [
        "1 What is the difference between a set and a frozenset? Create any set and try to use frozenset(setname). \\\\\n",
        "The frozenset() is an inbuilt function in Python which takes an iterable object as input and makes them immutable. Simply it freezes the iterable objects and makes them unchangeable.\n",
        "In Python, frozenset is same as set except its elements are immutable. This function takes input as any iterable object and converts them into immutable object. The order of element is not guaranteed to be preserved."
      ]
    },
    {
      "cell_type": "code",
      "metadata": {
        "colab": {
          "base_uri": "https://localhost:8080/"
        },
        "id": "ZIYxDnW_d-1G",
        "outputId": "e69debc2-6b7a-4230-fad6-f079c8127458"
      },
      "source": [
        "set_colours = set(['Red', 'Orange', 'Black', 'Green'])\n",
        "set_colours.add('White')\n",
        "print(set_colours)"
      ],
      "execution_count": null,
      "outputs": [
        {
          "output_type": "stream",
          "text": [
            "{'White', 'Orange', 'Black', 'Green', 'Red'}\n"
          ],
          "name": "stdout"
        }
      ]
    },
    {
      "cell_type": "code",
      "metadata": {
        "colab": {
          "base_uri": "https://localhost:8080/",
          "height": 197
        },
        "id": "dHOMeLdGh9CE",
        "outputId": "cbc3a581-c5b3-467e-b2de-92dda3abd901"
      },
      "source": [
        "fset_colours = frozenset(['Red', 'Orange', 'Black', 'Green'])\n",
        "fset_colours.add('White')\n",
        "print(fset_colours)"
      ],
      "execution_count": null,
      "outputs": [
        {
          "output_type": "error",
          "ename": "AttributeError",
          "evalue": "ignored",
          "traceback": [
            "\u001b[0;31m---------------------------------------------------------------------------\u001b[0m",
            "\u001b[0;31mAttributeError\u001b[0m                            Traceback (most recent call last)",
            "\u001b[0;32m<ipython-input-17-e12b1bcc68c7>\u001b[0m in \u001b[0;36m<module>\u001b[0;34m()\u001b[0m\n\u001b[1;32m      1\u001b[0m \u001b[0mfset_colours\u001b[0m \u001b[0;34m=\u001b[0m \u001b[0mfrozenset\u001b[0m\u001b[0;34m(\u001b[0m\u001b[0;34m[\u001b[0m\u001b[0;34m'Red'\u001b[0m\u001b[0;34m,\u001b[0m \u001b[0;34m'Orange'\u001b[0m\u001b[0;34m,\u001b[0m \u001b[0;34m'Black'\u001b[0m\u001b[0;34m,\u001b[0m \u001b[0;34m'Green'\u001b[0m\u001b[0;34m]\u001b[0m\u001b[0;34m)\u001b[0m\u001b[0;34m\u001b[0m\u001b[0;34m\u001b[0m\u001b[0m\n\u001b[0;32m----> 2\u001b[0;31m \u001b[0mfset_colours\u001b[0m\u001b[0;34m.\u001b[0m\u001b[0madd\u001b[0m\u001b[0;34m(\u001b[0m\u001b[0;34m'White'\u001b[0m\u001b[0;34m)\u001b[0m\u001b[0;34m\u001b[0m\u001b[0;34m\u001b[0m\u001b[0m\n\u001b[0m\u001b[1;32m      3\u001b[0m \u001b[0mprint\u001b[0m\u001b[0;34m(\u001b[0m\u001b[0mfset_colours\u001b[0m\u001b[0;34m)\u001b[0m\u001b[0;34m\u001b[0m\u001b[0;34m\u001b[0m\u001b[0m\n",
            "\u001b[0;31mAttributeError\u001b[0m: 'frozenset' object has no attribute 'add'"
          ]
        }
      ]
    },
    {
      "cell_type": "markdown",
      "metadata": {
        "id": "Xg6SJSg5eDyY"
      },
      "source": [
        "2 Find the elements in a given set that are not in another set \\\\\n",
        "    set1 = {10,20,30,40,50} \\\\\n",
        "    set2 = {40,50,60,70,80} \\\\\n",
        " Difference between set1 and set2 is {10,20,30}\n"
      ]
    },
    {
      "cell_type": "code",
      "metadata": {
        "colab": {
          "base_uri": "https://localhost:8080/"
        },
        "id": "_G1o3ggHeJEE",
        "outputId": "719faa21-6d1d-4959-bde3-dff58f6b5fd5"
      },
      "source": [
        "set1 = {10,20,30,40,50}\n",
        "set2 = {40,50,60,70,80}\n",
        "print(set1.difference(set2))"
      ],
      "execution_count": null,
      "outputs": [
        {
          "output_type": "stream",
          "text": [
            "{10, 20, 30}\n"
          ],
          "name": "stdout"
        }
      ]
    }
  ]
}