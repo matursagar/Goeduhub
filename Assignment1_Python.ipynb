{
  "nbformat": 4,
  "nbformat_minor": 0,
  "metadata": {
    "colab": {
      "name": "Assignment1_Python.ipynb",
      "provenance": [],
      "collapsed_sections": []
    },
    "kernelspec": {
      "name": "python3",
      "display_name": "Python 3"
    },
    "language_info": {
      "name": "python"
    }
  },
  "cells": [
    {
      "cell_type": "markdown",
      "metadata": {
        "id": "ziEkD0i7WNwT"
      },
      "source": [
        "#Assignment 1: Python\n",
        "\n",
        "##Sagar Matur\n",
        "GO_STP_6290"
      ]
    },
    {
      "cell_type": "markdown",
      "metadata": {
        "id": "OXVLIdpzQ_Kj"
      },
      "source": [
        "1. We are having 3 list like this \\\\\n",
        "Colors = [“Yellow”,”Green”,”White”,”Black”] \\\\\n",
        "Fruits=[“Apple”,”Papaya”,”Mango”,”Orange”] \\\\\n",
        "Animals=[“Tiger”,”Lion”,”Deer”,”Zebra”] \\\\\n",
        "  i. Write a program that asks user to enter a Color/Fruit/Animal name and it should tell which category belongs to , like its is a fruit or color or Animal. \\\\\n",
        " ii. Write a program that asks user to enter two cities and it tells you if they both are in same country or not. For example if I enter yellow and Black, it will print \"Both are colors\" but if I enter yellow and Tiger it should print \"They don't belong to same category\"\n"
      ]
    },
    {
      "cell_type": "code",
      "metadata": {
        "id": "NU1TjxczQ6m6"
      },
      "source": [
        "Colors = [\"Yellow\", \"Green\", \"White\", \"Black\"]\n",
        "Fruits = [\"Apple\", \"Papaya\", \"Mango\", \"Orange\"]\n",
        "Animals = [\"Tiger\", \"Lion\", \"Deer\", \"Zebra\"]"
      ],
      "execution_count": null,
      "outputs": []
    },
    {
      "cell_type": "code",
      "metadata": {
        "colab": {
          "base_uri": "https://localhost:8080/"
        },
        "id": "N1c6GhilS9Y7",
        "outputId": "70a562e1-590d-42d1-c761-fd820dbf813b"
      },
      "source": [
        "#i)\n",
        "input1 = input(\"Enter color, fruit or animal name: \")\n",
        "if input1 in Colors:\n",
        "  print(input1, \"is a Color\")\n",
        "elif input1 in Fruits:\n",
        "  print(input1, \"is a fruit\")\n",
        "else:\n",
        "  print(input1, \"is a Animal\")"
      ],
      "execution_count": null,
      "outputs": [
        {
          "output_type": "stream",
          "text": [
            "Enter color, fruit or animal name: White\n",
            "White is a Color\n"
          ],
          "name": "stdout"
        }
      ]
    },
    {
      "cell_type": "code",
      "metadata": {
        "colab": {
          "base_uri": "https://localhost:8080/"
        },
        "id": "bLQUIEnSOewj",
        "outputId": "b1e3fe59-4cc3-45ac-f4a8-f3adc7ab1e78"
      },
      "source": [
        "#ii)\n",
        "input1 = input(\"Enter first name: \")\n",
        "input2 = input(\"Enter second name: \")\n",
        "if input1 in Colors and input2 in Colors:\n",
        "  print(\"Both inputs are Colors\")\n",
        "elif input1 in Fruits and input2 in Fruits:\n",
        "  print(\"Both inputs are Fruits\")\n",
        "elif input1 in Animals and input2 in Animals:\n",
        "  print(\"Both inputs are Animals\")\n",
        "else:\n",
        "  print(\"Both inputs belong to different categories\")"
      ],
      "execution_count": null,
      "outputs": [
        {
          "output_type": "stream",
          "text": [
            "Enter first name: Tiger\n",
            "Enter second name: Yellow\n",
            "Both inputs belong to different categories\n"
          ],
          "name": "stdout"
        }
      ]
    },
    {
      "cell_type": "markdown",
      "metadata": {
        "id": "zFzVL0gzvwzE"
      },
      "source": [
        "2.  Write a python program that can tell you if your grade score good or not . Normal Score range is 40 to 60.\n",
        "\n",
        "  i. Ask user to enter his score.\n",
        "\n",
        "  ii. If it is below 40 to 60 range then print that score is low\n",
        "\n",
        "  iii. If it is above 60 then print that it is good otherwise print that it is normal"
      ]
    },
    {
      "cell_type": "code",
      "metadata": {
        "id": "TArGw9q7UQ-N",
        "colab": {
          "base_uri": "https://localhost:8080/"
        },
        "outputId": "9f594555-df80-4495-fc46-b8cc77b3986a"
      },
      "source": [
        "score = int(input(\"Enter your score: \"))   #i)\n",
        "if score < 40:                             #ii)\n",
        "  print(\"The score is low\")\n",
        "elif score > 60:                           #iii)\n",
        "  print(\"The score is good\")\n",
        "else:\n",
        "  print(\"The score is normal\")"
      ],
      "execution_count": null,
      "outputs": [
        {
          "output_type": "stream",
          "text": [
            "Enter your score: 85\n",
            "The score is good\n"
          ],
          "name": "stdout"
        }
      ]
    },
    {
      "cell_type": "markdown",
      "metadata": {
        "id": "1vE4bITyxEJA"
      },
      "source": [
        "3.  After appearing in exam 10 times you got this result,\n",
        "\n",
        "result = [\"Pass\",\"Fail\",\"Fail\",\"Pass\",\"Fail\",\"Pass\",\"Pass\",\"Fail\",\"Fail\",\"Fail\"]\n",
        "\n",
        "Using for loop figure out how many times you got Pass"
      ]
    },
    {
      "cell_type": "code",
      "metadata": {
        "colab": {
          "base_uri": "https://localhost:8080/"
        },
        "id": "_sCRhnsVwdE3",
        "outputId": "f68cccff-5fdc-4b35-b138-b3f21c694703"
      },
      "source": [
        "num = 0\n",
        "result = [\"Pass\", \"Fail\", \"Fail\", \"Pass\", \"Fail\", \"Pass\", \"Pass\", \"Fail\", \"Fail\", \"Fail\"]\n",
        "for i in range(len(result)):\n",
        "  if result[i] == \"Pass\":\n",
        "    num += 1\n",
        "print(\"The total number of times passed in the exam is:\",num)"
      ],
      "execution_count": null,
      "outputs": [
        {
          "output_type": "stream",
          "text": [
            "The total number of times passed in the exam is: 4\n"
          ],
          "name": "stdout"
        }
      ]
    },
    {
      "cell_type": "markdown",
      "metadata": {
        "id": "jKjeFZIExGUn"
      },
      "source": [
        "4.  Write a program that prints following shape \\\\\n",
        "$\\star$ \\\\\n",
        "$\\star \\star$ \\\\\n",
        "$\\star \\star \\star$ \\\\\n",
        "$\\star \\star \\star \\star$ \\\\\n",
        "$\\star \\star \\star \\star \\star$ \\\\\n",
        "$\\star \\star \\star \\star$ \\\\\n",
        "$\\star \\star \\star$ \\\\\n",
        "$\\star \\star$ \\\\\n",
        "$\\star$"
      ]
    },
    {
      "cell_type": "code",
      "metadata": {
        "id": "I-BA1e6qxQ35",
        "colab": {
          "base_uri": "https://localhost:8080/"
        },
        "outputId": "3c739124-7934-4483-e75e-0f525540e561"
      },
      "source": [
        "r = int(input(\"Enter the number: \"))  #For this perticular problem enter 9\n",
        "for i in range(1,(r+1)):\n",
        "  if i <= (r+1)/2:\n",
        "    for j in range(i):\n",
        "      print(\"*\", end=\"\")\n",
        "  else:\n",
        "    for j in range((r+1)-i):\n",
        "      print(\"*\", end=\"\")\n",
        "  print()"
      ],
      "execution_count": null,
      "outputs": [
        {
          "output_type": "stream",
          "text": [
            "Enter the number: 9\n",
            "*\n",
            "**\n",
            "***\n",
            "****\n",
            "*****\n",
            "****\n",
            "***\n",
            "**\n",
            "*\n"
          ],
          "name": "stdout"
        }
      ]
    },
    {
      "cell_type": "markdown",
      "metadata": {
        "id": "8tstKx9rxZIa"
      },
      "source": [
        "5.   Lets say you are running a 50 km race. Write a program that,\n",
        "\n",
        "* Upon completing each 10 km asks you \"are you tired?\"\n",
        "* If you reply \"yes\" then it should break and print \"you didn't finish the race\"\n",
        "* If you reply \"no\" then it should continue and ask \"are you tired\" on every km\n",
        "* If you finish all 50 km then it should print congratulations message"
      ]
    },
    {
      "cell_type": "code",
      "metadata": {
        "id": "X1A_BstSxlyd",
        "colab": {
          "base_uri": "https://localhost:8080/"
        },
        "outputId": "a607fd64-7522-4262-d210-90f7a1e050c6"
      },
      "source": [
        "for i in range(10,51,10):\n",
        "  print(\"You have covered\",i,\"KM, Are you tierd? \")\n",
        "  Ans = input(\"\")\n",
        "  if Ans == \"Yes\":\n",
        "    print(\"Sorry! you did not complete the race.\")\n",
        "    break\n",
        "  elif i == 50:\n",
        "    print(\"congrats\")\n",
        "  else:\n",
        "    print(\"Great! Just keep pedaling, only\",50-i,\"Kms left to complete the race.\")\n",
        "    continue\n"
      ],
      "execution_count": null,
      "outputs": [
        {
          "output_type": "stream",
          "text": [
            "You have covered 10 KM, Are you tierd? \n",
            "No\n",
            "Great! Just keep pedaling, only 40 Kms left to complete the race.\n",
            "You have covered 20 KM, Are you tierd? \n",
            "No\n",
            "Great! Just keep pedaling, only 30 Kms left to complete the race.\n",
            "You have covered 30 KM, Are you tierd? \n",
            "No\n",
            "Great! Just keep pedaling, only 20 Kms left to complete the race.\n",
            "You have covered 40 KM, Are you tierd? \n",
            "Yes\n",
            "Sorry! you did not complete the race.\n"
          ],
          "name": "stdout"
        }
      ]
    },
    {
      "cell_type": "markdown",
      "metadata": {
        "id": "m7l27NFoxuCR"
      },
      "source": [
        "6.  Write a Python program to find those numbers which are divisible by 7 and multiple of 5, between 1500 and 2700 (both included)."
      ]
    },
    {
      "cell_type": "code",
      "metadata": {
        "colab": {
          "base_uri": "https://localhost:8080/"
        },
        "id": "VCnVydhSxu3D",
        "outputId": "0c58e939-345a-4eae-b119-6ca361870bea"
      },
      "source": [
        "print(\"The list of numbers which are divisible by 7 and multiple of 5 are:\")\n",
        "for i in range(1500, 2701):\n",
        "  if ((i%7)==0) and ((i%5)==0):\n",
        "    print(i)"
      ],
      "execution_count": null,
      "outputs": [
        {
          "output_type": "stream",
          "text": [
            "The list of numbers which are divisible by 7 and multiple of 5 are:\n",
            "1505\n",
            "1540\n",
            "1575\n",
            "1610\n",
            "1645\n",
            "1680\n",
            "1715\n",
            "1750\n",
            "1785\n",
            "1820\n",
            "1855\n",
            "1890\n",
            "1925\n",
            "1960\n",
            "1995\n",
            "2030\n",
            "2065\n",
            "2100\n",
            "2135\n",
            "2170\n",
            "2205\n",
            "2240\n",
            "2275\n",
            "2310\n",
            "2345\n",
            "2380\n",
            "2415\n",
            "2450\n",
            "2485\n",
            "2520\n",
            "2555\n",
            "2590\n",
            "2625\n",
            "2660\n",
            "2695\n"
          ],
          "name": "stdout"
        }
      ]
    },
    {
      "cell_type": "markdown",
      "metadata": {
        "id": "X2HVDiBxxvpa"
      },
      "source": [
        "7.   Print square of all numbers between 10 to 20 except even numbers"
      ]
    },
    {
      "cell_type": "code",
      "metadata": {
        "colab": {
          "base_uri": "https://localhost:8080/"
        },
        "id": "lJm5_uiizJhK",
        "outputId": "136625c0-c4e8-463c-912d-9c6b61ebc078"
      },
      "source": [
        "sqr = []\n",
        "for i in range(10,20):\n",
        "  if ((i%2) != 0):\n",
        "    sqr =i**2\n",
        "    print(\"The odd number is:\", i, \"and its square is:\", sqr)"
      ],
      "execution_count": null,
      "outputs": [
        {
          "output_type": "stream",
          "text": [
            "The odd number is: 11 and its square is: 121\n",
            "The odd number is: 13 and its square is: 169\n",
            "The odd number is: 15 and its square is: 225\n",
            "The odd number is: 17 and its square is: 289\n",
            "The odd number is: 19 and its square is: 361\n"
          ],
          "name": "stdout"
        }
      ]
    },
    {
      "cell_type": "markdown",
      "metadata": {
        "id": "qbE8aPE0x2rI"
      },
      "source": [
        "8.  Your Marks for five Test(test1 to test5) looks like this,\n",
        "marks_list = [65, 75, 2100, 95, 83].\n",
        "\n",
        "Write a program that asks you to enter marks and program should tell you in which test that marks occurred. If marks is not found then it should print that as well."
      ]
    },
    {
      "cell_type": "code",
      "metadata": {
        "colab": {
          "base_uri": "https://localhost:8080/"
        },
        "id": "g0xOH7HALffk",
        "outputId": "b0ee30ae-122c-4872-987f-b979232086be"
      },
      "source": [
        "marks_list = [65, 75, 2100, 95, 83]\n",
        "marks = int(input(\"Enter the marks: \"))\n",
        "if marks in marks_list:\n",
        "  print(\"Test\",marks_list.index(marks)+1)\n",
        "else:\n",
        "  print(\"Not found, enter the correct marks\")"
      ],
      "execution_count": null,
      "outputs": [
        {
          "output_type": "stream",
          "text": [
            "Enter the marks: 95\n",
            "Test 4\n"
          ],
          "name": "stdout"
        }
      ]
    }
  ]
}