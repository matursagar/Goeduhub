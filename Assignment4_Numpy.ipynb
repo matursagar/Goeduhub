{
  "nbformat": 4,
  "nbformat_minor": 0,
  "metadata": {
    "colab": {
      "name": "Assignment4_Numpy.ipynb",
      "provenance": [],
      "collapsed_sections": []
    },
    "kernelspec": {
      "name": "python3",
      "display_name": "Python 3"
    },
    "language_info": {
      "name": "python"
    }
  },
  "cells": [
    {
      "cell_type": "markdown",
      "metadata": {
        "id": "33if7lwKUG5-"
      },
      "source": [
        "#Assignment 4: Numpy\n",
        "\n",
        "##Sagar Matur\n",
        "GO_STP_6290"
      ]
    },
    {
      "cell_type": "markdown",
      "metadata": {
        "id": "-TZvjsbHUrI1"
      },
      "source": [
        "1.\tImport the numpy package under the name np and Print the numpy version and the configuration "
      ]
    },
    {
      "cell_type": "code",
      "metadata": {
        "colab": {
          "base_uri": "https://localhost:8080/"
        },
        "id": "5UN2WAd0UAPN",
        "outputId": "8fe649b5-682b-4e09-f783-1350367749ae"
      },
      "source": [
        "import numpy as np\n",
        "print(np.__version__)\n",
        "print(np.show_config())"
      ],
      "execution_count": null,
      "outputs": [
        {
          "output_type": "stream",
          "text": [
            "1.19.5\n",
            "blas_mkl_info:\n",
            "  NOT AVAILABLE\n",
            "blis_info:\n",
            "  NOT AVAILABLE\n",
            "openblas_info:\n",
            "    libraries = ['openblas', 'openblas']\n",
            "    library_dirs = ['/usr/local/lib']\n",
            "    language = c\n",
            "    define_macros = [('HAVE_CBLAS', None)]\n",
            "blas_opt_info:\n",
            "    libraries = ['openblas', 'openblas']\n",
            "    library_dirs = ['/usr/local/lib']\n",
            "    language = c\n",
            "    define_macros = [('HAVE_CBLAS', None)]\n",
            "lapack_mkl_info:\n",
            "  NOT AVAILABLE\n",
            "openblas_lapack_info:\n",
            "    libraries = ['openblas', 'openblas']\n",
            "    library_dirs = ['/usr/local/lib']\n",
            "    language = c\n",
            "    define_macros = [('HAVE_CBLAS', None)]\n",
            "lapack_opt_info:\n",
            "    libraries = ['openblas', 'openblas']\n",
            "    library_dirs = ['/usr/local/lib']\n",
            "    language = c\n",
            "    define_macros = [('HAVE_CBLAS', None)]\n",
            "None\n"
          ],
          "name": "stdout"
        }
      ]
    },
    {
      "cell_type": "markdown",
      "metadata": {
        "id": "FWyi2nM4X95t"
      },
      "source": [
        "2.\tCreate a null vector of size 10"
      ]
    },
    {
      "cell_type": "code",
      "metadata": {
        "colab": {
          "base_uri": "https://localhost:8080/"
        },
        "id": "cv9MSrP-WX51",
        "outputId": "49ccaef5-7520-469d-cfdc-d7bd8cdb896e"
      },
      "source": [
        "a = np.zeros(10)\n",
        "print(a)"
      ],
      "execution_count": null,
      "outputs": [
        {
          "output_type": "stream",
          "text": [
            "[0. 0. 0. 0. 0. 0. 0. 0. 0. 0.]\n"
          ],
          "name": "stdout"
        }
      ]
    },
    {
      "cell_type": "markdown",
      "metadata": {
        "id": "9FSrrkARYZah"
      },
      "source": [
        "3.\tCreate Simple 1-D array and check type and check data types in array"
      ]
    },
    {
      "cell_type": "code",
      "metadata": {
        "colab": {
          "base_uri": "https://localhost:8080/"
        },
        "id": "gFABLAG8YD-K",
        "outputId": "eb2771ba-42bc-404d-eaf9-fa9b3fdbea71"
      },
      "source": [
        "a = np.array([1, 8, 15, 24, 58])\n",
        "print(type(a))\n",
        "print(a.dtype)"
      ],
      "execution_count": null,
      "outputs": [
        {
          "output_type": "stream",
          "text": [
            "<class 'numpy.ndarray'>\n",
            "int64\n"
          ],
          "name": "stdout"
        }
      ]
    },
    {
      "cell_type": "markdown",
      "metadata": {
        "id": "HGECQWwsaO2H"
      },
      "source": [
        "4.\tHow to find number of dimensions, bytes per element and bytes of memory used?"
      ]
    },
    {
      "cell_type": "code",
      "metadata": {
        "colab": {
          "base_uri": "https://localhost:8080/"
        },
        "id": "BTOd_NmRY-2t",
        "outputId": "d80f1434-35cb-42aa-e91b-886683756a05"
      },
      "source": [
        "print(\"Number of dimension is: \",a.ndim)\n",
        "print(\"bytes per element is: \",a.nbytes)\n",
        "print(\"Total bytes of memory used is: \",a.itemsize)"
      ],
      "execution_count": null,
      "outputs": [
        {
          "output_type": "stream",
          "text": [
            "Number of dimension is:  1\n",
            "bytes per element is:  40\n",
            "Total bytes of memory used is:  8\n"
          ],
          "name": "stdout"
        }
      ]
    },
    {
      "cell_type": "markdown",
      "metadata": {
        "id": "ADhlO0EbcUB2"
      },
      "source": [
        "5.\tCreate a null vector of size 10 but the fifth value which is 1"
      ]
    },
    {
      "cell_type": "code",
      "metadata": {
        "colab": {
          "base_uri": "https://localhost:8080/"
        },
        "id": "tJzXmH-AaXzr",
        "outputId": "a579d25c-f33f-4b2f-8e87-4321f3333308"
      },
      "source": [
        "a=np.zeros(10)\n",
        "a[4]=1\n",
        "print(a)"
      ],
      "execution_count": null,
      "outputs": [
        {
          "output_type": "stream",
          "text": [
            "[0. 0. 0. 0. 1. 0. 0. 0. 0. 0.]\n"
          ],
          "name": "stdout"
        }
      ]
    },
    {
      "cell_type": "markdown",
      "metadata": {
        "id": "7dr4xElpdCxq"
      },
      "source": [
        "6.\tCreate a vector with values ranging from 10 to 49"
      ]
    },
    {
      "cell_type": "code",
      "metadata": {
        "colab": {
          "base_uri": "https://localhost:8080/"
        },
        "id": "S0saXqqFa_mG",
        "outputId": "434ffad7-2f7c-4c9f-db06-ec82bc7ee7a7"
      },
      "source": [
        "a = np.arange(10,50)\n",
        "print(a)"
      ],
      "execution_count": null,
      "outputs": [
        {
          "output_type": "stream",
          "text": [
            "[10 11 12 13 14 15 16 17 18 19 20 21 22 23 24 25 26 27 28 29 30 31 32 33\n",
            " 34 35 36 37 38 39 40 41 42 43 44 45 46 47 48 49]\n"
          ],
          "name": "stdout"
        }
      ]
    },
    {
      "cell_type": "markdown",
      "metadata": {
        "id": "Vw1JU9vbdhdw"
      },
      "source": [
        "7.\tReverse a vector (first element becomes last)"
      ]
    },
    {
      "cell_type": "code",
      "metadata": {
        "colab": {
          "base_uri": "https://localhost:8080/"
        },
        "id": "I7S73SsbbEOp",
        "outputId": "e1edce0b-0be5-49bc-e23e-9029f38e3cc7"
      },
      "source": [
        "#Reversing the vector 'a'\n",
        "np.flip(a)"
      ],
      "execution_count": null,
      "outputs": [
        {
          "output_type": "execute_result",
          "data": {
            "text/plain": [
              "array([49, 48, 47, 46, 45, 44, 43, 42, 41, 40, 39, 38, 37, 36, 35, 34, 33,\n",
              "       32, 31, 30, 29, 28, 27, 26, 25, 24, 23, 22, 21, 20, 19, 18, 17, 16,\n",
              "       15, 14, 13, 12, 11, 10])"
            ]
          },
          "metadata": {
            "tags": []
          },
          "execution_count": 21
        }
      ]
    },
    {
      "cell_type": "markdown",
      "metadata": {
        "id": "zh2wUzv9eEXD"
      },
      "source": [
        "8.\tCreate a 3x3 matrix with values ranging from 0 to 8"
      ]
    },
    {
      "cell_type": "code",
      "metadata": {
        "colab": {
          "base_uri": "https://localhost:8080/"
        },
        "id": "efi7ptnfd_F3",
        "outputId": "190dc762-13e6-43d7-974c-fd47bef4be4b"
      },
      "source": [
        "mat = np.arange(9).reshape(3,3)\n",
        "print(\"The 3*3 matrix is: \\n\", mat)"
      ],
      "execution_count": null,
      "outputs": [
        {
          "output_type": "stream",
          "text": [
            "The 3*3 matrix is: \n",
            " [[0 1 2]\n",
            " [3 4 5]\n",
            " [6 7 8]]\n"
          ],
          "name": "stdout"
        }
      ]
    },
    {
      "cell_type": "markdown",
      "metadata": {
        "id": "ktNdnroJe3xa"
      },
      "source": [
        "9.\tFind indices of non-zero elements from [1,2,0,0,4,0]"
      ]
    },
    {
      "cell_type": "code",
      "metadata": {
        "colab": {
          "base_uri": "https://localhost:8080/"
        },
        "id": "bI5PrjCBeg1w",
        "outputId": "ae7c27dc-d89e-47aa-ee4c-13c5dbed78a2"
      },
      "source": [
        "nz = np.array([1, 2, 0, 0, 4, 0])\n",
        "np.nonzero(nz)"
      ],
      "execution_count": null,
      "outputs": [
        {
          "output_type": "execute_result",
          "data": {
            "text/plain": [
              "(array([0, 1, 4]),)"
            ]
          },
          "metadata": {
            "tags": []
          },
          "execution_count": 26
        }
      ]
    },
    {
      "cell_type": "markdown",
      "metadata": {
        "id": "3IbSFF04fvwW"
      },
      "source": [
        "10.\tCreate a 3x3 identity matrix"
      ]
    },
    {
      "cell_type": "code",
      "metadata": {
        "colab": {
          "base_uri": "https://localhost:8080/"
        },
        "id": "kBEWn6uiflwp",
        "outputId": "66650fb0-da57-4931-cafd-102dd3b6e42f"
      },
      "source": [
        "iden_matrix = np.identity(3)\n",
        "print(\"A 3*3 identity matrix is: \\n\",iden_matrix)"
      ],
      "execution_count": null,
      "outputs": [
        {
          "output_type": "stream",
          "text": [
            "A 3*3 identity matrix is: \n",
            " [[1. 0. 0.]\n",
            " [0. 1. 0.]\n",
            " [0. 0. 1.]]\n"
          ],
          "name": "stdout"
        }
      ]
    },
    {
      "cell_type": "markdown",
      "metadata": {
        "id": "Ycz5Lf8jgPZX"
      },
      "source": [
        "11.\tCreate a 3x3x3 array with random values"
      ]
    },
    {
      "cell_type": "code",
      "metadata": {
        "colab": {
          "base_uri": "https://localhost:8080/"
        },
        "id": "cUHAHDpqgMdQ",
        "outputId": "02066f79-357d-48e0-938d-4ff03a8624ab"
      },
      "source": [
        "ran = np.random.random((3,3,3))\n",
        "print(ran)"
      ],
      "execution_count": null,
      "outputs": [
        {
          "output_type": "stream",
          "text": [
            "[[[0.54396479 0.91993945 0.92499455]\n",
            "  [0.14745723 0.81349796 0.16156739]\n",
            "  [0.41597632 0.43531109 0.78652708]]\n",
            "\n",
            " [[0.41074776 0.78447068 0.48096702]\n",
            "  [0.7665426  0.45850876 0.12338893]\n",
            "  [0.45891767 0.4065453  0.77256172]]\n",
            "\n",
            " [[0.13802048 0.97572342 0.48148952]\n",
            "  [0.16786908 0.90729511 0.66933312]\n",
            "  [0.10785903 0.18598071 0.94130801]]]\n"
          ],
          "name": "stdout"
        }
      ]
    },
    {
      "cell_type": "markdown",
      "metadata": {
        "id": "4efC3Upcgt0Y"
      },
      "source": [
        "12.\tCreate a 10x10 array with random values and find the minimum and maximum values"
      ]
    },
    {
      "cell_type": "code",
      "metadata": {
        "colab": {
          "base_uri": "https://localhost:8080/"
        },
        "id": "TGaIwMABglFT",
        "outputId": "15d8a5c3-b112-4504-a742-5da63b38f61c"
      },
      "source": [
        "ran2 = np.random.random((10,10))\n",
        "print(ran2)\n",
        "print(\"The minimum value is: \",ran2.min())\n",
        "print(\"The maximum value is: \",ran2.max())"
      ],
      "execution_count": null,
      "outputs": [
        {
          "output_type": "stream",
          "text": [
            "[[0.73324643 0.91557972 0.96802564 0.33237525 0.49862079 0.57113772\n",
            "  0.17522337 0.12075285 0.01917447 0.35098037]\n",
            " [0.64473419 0.02726448 0.86556631 0.24904008 0.06304835 0.28275609\n",
            "  0.2388372  0.30855713 0.061014   0.85344631]\n",
            " [0.90164225 0.61764922 0.15944303 0.75015556 0.23951059 0.4974772\n",
            "  0.98720434 0.05268896 0.74082831 0.65591899]\n",
            " [0.87456844 0.91847835 0.14916926 0.46906626 0.76268603 0.08095363\n",
            "  0.36825505 0.95379092 0.56891659 0.44109642]\n",
            " [0.58696793 0.45489059 0.95525226 0.4957642  0.26342495 0.43821743\n",
            "  0.4759156  0.42893995 0.78797816 0.42762879]\n",
            " [0.26985511 0.26956013 0.00249735 0.05402843 0.78652546 0.11561372\n",
            "  0.96680608 0.58203594 0.32557632 0.35706711]\n",
            " [0.09879263 0.88634235 0.9442484  0.35574913 0.86114385 0.72217298\n",
            "  0.43571198 0.00751592 0.02720109 0.99840988]\n",
            " [0.76600837 0.70125185 0.46842369 0.76807779 0.28766088 0.33835638\n",
            "  0.15137573 0.94730825 0.52498181 0.03907665]\n",
            " [0.63306134 0.80517655 0.68066739 0.08670823 0.48063512 0.00827629\n",
            "  0.62473105 0.47706295 0.60275846 0.18074348]\n",
            " [0.02945149 0.2815084  0.48190082 0.2102699  0.18576066 0.20966402\n",
            "  0.49203326 0.36439552 0.51334018 0.09944213]]\n",
            "The minimum value is:  0.0024973484904222687\n",
            "The maximum value is:  0.9984098821544929\n"
          ],
          "name": "stdout"
        }
      ]
    },
    {
      "cell_type": "markdown",
      "metadata": {
        "id": "oAv0t2IchnCK"
      },
      "source": [
        "13.\tCreate a random vector of size 30 and find the mean value"
      ]
    },
    {
      "cell_type": "code",
      "metadata": {
        "colab": {
          "base_uri": "https://localhost:8080/"
        },
        "id": "QEmAu6mFg8j5",
        "outputId": "084cc2ec-7dde-457b-c63e-93280fb76503"
      },
      "source": [
        "ran3 = np.random.random(30)\n",
        "print(\"Size of the vector is: \",ran3.size)\n",
        "print(\"The mean is: \", ran3.mean())"
      ],
      "execution_count": null,
      "outputs": [
        {
          "output_type": "stream",
          "text": [
            "Size of the vector is:  30\n",
            "The mean is:  0.5234993746936027\n"
          ],
          "name": "stdout"
        }
      ]
    },
    {
      "cell_type": "markdown",
      "metadata": {
        "id": "L0_8lQjqiZiL"
      },
      "source": [
        "14.\tCreate a 2d array with 1 on the border and 0 inside"
      ]
    },
    {
      "cell_type": "code",
      "metadata": {
        "colab": {
          "base_uri": "https://localhost:8080/"
        },
        "id": "xKEI8T-7hB0v",
        "outputId": "be206de1-18e1-4159-fa0a-eece105966bb"
      },
      "source": [
        "ar = np.ones((6,6))\n",
        "ar[1:-1,1:-1] = 0\n",
        "print(ar)"
      ],
      "execution_count": null,
      "outputs": [
        {
          "output_type": "stream",
          "text": [
            "[[1. 1. 1. 1. 1. 1.]\n",
            " [1. 0. 0. 0. 0. 1.]\n",
            " [1. 0. 0. 0. 0. 1.]\n",
            " [1. 0. 0. 0. 0. 1.]\n",
            " [1. 0. 0. 0. 0. 1.]\n",
            " [1. 1. 1. 1. 1. 1.]]\n"
          ],
          "name": "stdout"
        }
      ]
    },
    {
      "cell_type": "markdown",
      "metadata": {
        "id": "7ImIP-xOjIUa"
      },
      "source": [
        "15.\tHow to add a border (filled with 0's) around an existing array?"
      ]
    },
    {
      "cell_type": "code",
      "metadata": {
        "colab": {
          "base_uri": "https://localhost:8080/"
        },
        "id": "m5hrfawmhH48",
        "outputId": "6795a01d-6c71-4b0e-a4f8-1bbe43ddbc04"
      },
      "source": [
        "ar = np.pad(ar, pad_width=1, mode='constant', constant_values=0)\n",
        "print(ar)"
      ],
      "execution_count": null,
      "outputs": [
        {
          "output_type": "stream",
          "text": [
            "[[0. 0. 0. 0. 0. 0. 0. 0.]\n",
            " [0. 1. 1. 1. 1. 1. 1. 0.]\n",
            " [0. 1. 0. 0. 0. 0. 1. 0.]\n",
            " [0. 1. 0. 0. 0. 0. 1. 0.]\n",
            " [0. 1. 0. 0. 0. 0. 1. 0.]\n",
            " [0. 1. 0. 0. 0. 0. 1. 0.]\n",
            " [0. 1. 1. 1. 1. 1. 1. 0.]\n",
            " [0. 0. 0. 0. 0. 0. 0. 0.]]\n"
          ],
          "name": "stdout"
        }
      ]
    },
    {
      "cell_type": "markdown",
      "metadata": {
        "id": "SXHZtgtQjoWi"
      },
      "source": [
        "16.\tHow to Accessing/Changing specific elements, rows, columns, etc in Numpy array? \\\\\n",
        "Example -\n",
        "[[ 1 2 3 4 5 6 7] [ 8 9 10 11 12 13 14]] \\\\\n",
        "Get 13, get first row only, get 3rd column only, get [2, 4, 6], replace 13 by 20\n"
      ]
    },
    {
      "cell_type": "code",
      "metadata": {
        "id": "PTWXD_b1jlat",
        "colab": {
          "base_uri": "https://localhost:8080/"
        },
        "outputId": "f1fc8d65-eb40-492c-f50e-0b9fe58c9932"
      },
      "source": [
        "ar1=np.array([[ 1, 2, 3, 4, 5, 6, 7],[ 8, 9, 10, 11, 12, 13, 14]])\n",
        "print(ar1)"
      ],
      "execution_count": null,
      "outputs": [
        {
          "output_type": "stream",
          "text": [
            "[[ 1  2  3  4  5  6  7]\n",
            " [ 8  9 10 11 12 13 14]]\n"
          ],
          "name": "stdout"
        }
      ]
    },
    {
      "cell_type": "code",
      "metadata": {
        "colab": {
          "base_uri": "https://localhost:8080/"
        },
        "id": "iFlNJJV86x9L",
        "outputId": "d769bb78-35d5-4d7b-8387-d315290678c5"
      },
      "source": [
        "print(ar1[1,5]) #Get 13\n",
        "print(ar1[0])    #Get the first row only\n",
        "print(ar1[:,2])  #Get the third column\n",
        "print(ar1[0][1:7:2]) #Get [2,4,6]\n",
        "ar1[1,5]=20          #Replace 13 by 20    \n",
        "print(ar1)"
      ],
      "execution_count": null,
      "outputs": [
        {
          "output_type": "stream",
          "text": [
            "13\n",
            "[1 2 3 4 5 6 7]\n",
            "[ 3 10]\n",
            "[2 4 6]\n",
            "[[ 1  2  3  4  5  6  7]\n",
            " [ 8  9 10 11 12 20 14]]\n"
          ],
          "name": "stdout"
        }
      ]
    },
    {
      "cell_type": "markdown",
      "metadata": {
        "id": "7IBcfjurkvJm"
      },
      "source": [
        "17.\tHow to Convert a 1D array to a 2D array with 2 rows"
      ]
    },
    {
      "cell_type": "code",
      "metadata": {
        "id": "tg6wgz_eky6u",
        "colab": {
          "base_uri": "https://localhost:8080/"
        },
        "outputId": "60d72cb9-98e7-4a69-f5f6-6c5cd2084f5d"
      },
      "source": [
        "ar = np.arange(10)\n",
        "print(\"The 1-D array is: \",ar)\n",
        "print(\"The 2-D array is: \\n\",ar.reshape(2,5))"
      ],
      "execution_count": null,
      "outputs": [
        {
          "output_type": "stream",
          "text": [
            "The 1-D array is:  [0 1 2 3 4 5 6 7 8 9]\n",
            "The 2-D array is: \n",
            " [[0 1 2 3 4]\n",
            " [5 6 7 8 9]]\n"
          ],
          "name": "stdout"
        }
      ]
    },
    {
      "cell_type": "markdown",
      "metadata": {
        "id": "CrGQ8y0-kztU"
      },
      "source": [
        "18.\tCreate the following pattern without hardcoding. Use only numpy functions and the below input array a. \\\\\n",
        "Input: \\\\\n",
        "a = np.array([1,2,3]) \\\\\n",
        "Desired Output: \\\\\n",
        "array([1, 1, 1, 2, 2, 2, 3, 3, 3, 1, 2, 3, 1, 2, 3, 1, 2, 3])\n"
      ]
    },
    {
      "cell_type": "code",
      "metadata": {
        "id": "kJrPjnZ_lGsO",
        "colab": {
          "base_uri": "https://localhost:8080/"
        },
        "outputId": "03044063-c563-42cf-f7a2-6b95e3e1062f"
      },
      "source": [
        "a = np.array([1,2,3])\n",
        "np.hstack((np.repeat(a, 3), np.tile(a, 3)))"
      ],
      "execution_count": null,
      "outputs": [
        {
          "output_type": "execute_result",
          "data": {
            "text/plain": [
              "array([1, 1, 1, 2, 2, 2, 3, 3, 3, 1, 2, 3, 1, 2, 3, 1, 2, 3])"
            ]
          },
          "metadata": {
            "tags": []
          },
          "execution_count": 44
        }
      ]
    },
    {
      "cell_type": "markdown",
      "metadata": {
        "id": "x1C1CXxOlNPy"
      },
      "source": [
        "19.\tWrite a program to show how Numpy taking less memory compared to Python List?"
      ]
    },
    {
      "cell_type": "code",
      "metadata": {
        "id": "qDYq5ykylQo2",
        "colab": {
          "base_uri": "https://localhost:8080/"
        },
        "outputId": "f1aa33cd-9de4-4d5b-ddab-6b36359ef354"
      },
      "source": [
        "\n",
        "# importing system module\n",
        "import sys\n",
        "  \n",
        "# declaring a list of 1000 elements \n",
        "l= range(1000)\n",
        "  \n",
        "# printing size of each element of the list\n",
        "print(\"Size of each element of list in bytes: \",sys.getsizeof(l))\n",
        "  \n",
        "# printing size of the whole list\n",
        "print(\"Size of the whole list in bytes: \",sys.getsizeof(l)*len(l))\n",
        "  \n",
        "# declaring a Numpy array of 1000 elements \n",
        "n= np.arange(1000)\n",
        "  \n",
        "# printing size of each element of the Numpy array\n",
        "print(\"Size of each element of the Numpy array in bytes: \",n.itemsize)\n",
        "  \n",
        "# printing size of the whole Numpy array\n",
        "print(\"Size of the whole Numpy array in bytes: \",n.size*n.itemsize)"
      ],
      "execution_count": null,
      "outputs": [
        {
          "output_type": "stream",
          "text": [
            "Size of each element of list in bytes:  48\n",
            "Size of the whole list in bytes:  48000\n",
            "Size of each element of the Numpy array in bytes:  8\n",
            "Size of the whole Numpy array in bytes:  8000\n"
          ],
          "name": "stdout"
        }
      ]
    },
    {
      "cell_type": "markdown",
      "metadata": {
        "id": "1b0CdcFKlRe4"
      },
      "source": [
        "20.\tWrite a program to show how Numpy taking less time compared to Python List?"
      ]
    },
    {
      "cell_type": "code",
      "metadata": {
        "id": "J4LR8bpBlWMn",
        "colab": {
          "base_uri": "https://localhost:8080/"
        },
        "outputId": "4ec7d68b-d130-4451-efa7-7414febf2eec"
      },
      "source": [
        "import time\n",
        "\n",
        "# capturing time before the multiplication of Python lists\n",
        "initialTime = time.time()\n",
        "  \n",
        "# multiplying  elements of both the lists and stored in another list\n",
        "List1 = [(a * b) for a, b in zip(range(10000), range(10000))]\n",
        "   \n",
        "# calculating execution time\n",
        "print(\"Time taken by Lists to perform multiplication:\", \n",
        "      (time.time() - initialTime),\n",
        "      \"seconds\")\n",
        "# capturing time before the multiplication of Numpy arrays\n",
        "initialTime = time.time()\n",
        "  \n",
        "# multiplying  elements of both the Numpy arrays and stored in another Numpy array \n",
        "array1 = np.arange(10000) * np.arange(10000)\n",
        "# calculating execution time \n",
        "print(\"Time taken by NumPy Arrays to perform multiplication:\",\n",
        "      (time.time() - initialTime),\n",
        "      \"seconds\")"
      ],
      "execution_count": null,
      "outputs": [
        {
          "output_type": "stream",
          "text": [
            "Time taken by Lists to perform multiplication: 0.0017397403717041016 seconds\n",
            "Time taken by NumPy Arrays to perform multiplication: 0.003474712371826172 seconds\n"
          ],
          "name": "stdout"
        }
      ]
    }
  ]
}