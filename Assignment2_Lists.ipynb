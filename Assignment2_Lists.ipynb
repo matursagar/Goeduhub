{
  "nbformat": 4,
  "nbformat_minor": 0,
  "metadata": {
    "colab": {
      "name": "Assignment2_Lists.ipynb",
      "provenance": []
    },
    "kernelspec": {
      "name": "python3",
      "display_name": "Python 3"
    },
    "language_info": {
      "name": "python"
    }
  },
  "cells": [
    {
      "cell_type": "markdown",
      "metadata": {
        "id": "Y72wFcC9UDtu"
      },
      "source": [
        "#Assignment 2: Lists\n",
        "\n",
        "##Sagar Matur\n",
        "GO_STP_6290"
      ]
    },
    {
      "cell_type": "markdown",
      "metadata": {
        "id": "6wFGh4tVUjQz"
      },
      "source": [
        "1.\tIs a list mutable? \\\\\n",
        "List is a Mutable object, because it can be changed after it is created. That is, the elements of list can be deleted, updated and the new elements can be added into the created list. \\\\\n",
        "For example:"
      ]
    },
    {
      "cell_type": "code",
      "metadata": {
        "colab": {
          "base_uri": "https://localhost:8080/"
        },
        "id": "sR_JrqjiUNFY",
        "outputId": "88bd3f47-b94f-4083-bafa-2a040380aaa9"
      },
      "source": [
        "lst = [\"Orage\", \"Papaya\", \"Banana\", \"Grape\"]\n",
        "print(\"Created list is: \",lst)\n",
        "lst[1] = \"Apple\"   #Papaya will be replaced by Apple\n",
        "print(\"The updated list is: \",lst)\n",
        "lst.pop(-1)\n",
        "print(\"The list after removing the last element: \",lst)"
      ],
      "execution_count": null,
      "outputs": [
        {
          "output_type": "stream",
          "text": [
            "Created list is:  ['Orage', 'Papaya', 'Banana', 'Grape']\n",
            "The updated list is:  ['Orage', 'Apple', 'Banana', 'Grape']\n",
            "The list after removing the last element:  ['Orage', 'Apple', 'Banana']\n"
          ],
          "name": "stdout"
        }
      ]
    },
    {
      "cell_type": "markdown",
      "metadata": {
        "id": "q8wFgtdpXN5Y"
      },
      "source": [
        "2.\tDoes a list need to be homogeneous? \\\\\n",
        "Lists need not be homgeneous. It can contain elements of different datatypes like strings, numbers, boolean etc. "
      ]
    },
    {
      "cell_type": "code",
      "metadata": {
        "colab": {
          "base_uri": "https://localhost:8080/"
        },
        "id": "n1Bz5_DlXAvy",
        "outputId": "332aaa68-d702-451f-e9c0-69bc2c4a6301"
      },
      "source": [
        "lst.append(True)  #Adding boolean value \"True\" to the list \n",
        "lst. insert(5,2) # Adding element 2 to the list at the 5th position \n",
        "print(lst)\n",
        "#Now the list contains string, boolean and integer values"
      ],
      "execution_count": null,
      "outputs": [
        {
          "output_type": "stream",
          "text": [
            "['Orage', 'Apple', 'Banana', True, 2, 2, True]\n"
          ],
          "name": "stdout"
        }
      ]
    },
    {
      "cell_type": "markdown",
      "metadata": {
        "id": "QVbgDBVjrbfc"
      },
      "source": [
        "3.\tWhat is the difference between a list and a tuple. \\\\\n",
        "* The List is Mutable whereas the tuple is immutable.\n",
        "* List iteration is slower whereas tuple iteration is faster.\n",
        "* List consumes more memory whereas tuple conumes less memory.\n",
        "* List provides many in-built methods whereas tuples have less in-built methods."
      ]
    },
    {
      "cell_type": "markdown",
      "metadata": {
        "id": "KwWYxZ3Gvz4Y"
      },
      "source": [
        "4.\tHow to find the number of elements in the list? \\\\\n",
        "len() function is used to find the number of elements in the list."
      ]
    },
    {
      "cell_type": "code",
      "metadata": {
        "colab": {
          "base_uri": "https://localhost:8080/"
        },
        "id": "M57yyifIjnQz",
        "outputId": "ee40f5d7-9146-445c-fc9a-6730e4483516"
      },
      "source": [
        "len(lst) #returns the number of elements in the 'lst' list."
      ],
      "execution_count": null,
      "outputs": [
        {
          "output_type": "execute_result",
          "data": {
            "text/plain": [
              "7"
            ]
          },
          "metadata": {
            "tags": []
          },
          "execution_count": 15
        }
      ]
    },
    {
      "cell_type": "markdown",
      "metadata": {
        "id": "yz91Q-hMx5uC"
      },
      "source": [
        "5.\tHow to check whether the list is empty or not? \\\\\n",
        "By using conditional statements we can check whether the list is empty or not. I have mentioned 3 different examples below. "
      ]
    },
    {
      "cell_type": "code",
      "metadata": {
        "colab": {
          "base_uri": "https://localhost:8080/"
        },
        "id": "uIa87walvcP5",
        "outputId": "08a561af-5e7a-43aa-c3fa-167661f993f3"
      },
      "source": [
        "list1=[]\n",
        "if list1:\n",
        "\tprint('List is not empty')\n",
        "else:\n",
        "\tprint('List is empty')"
      ],
      "execution_count": null,
      "outputs": [
        {
          "output_type": "stream",
          "text": [
            "List is not empty\n"
          ],
          "name": "stdout"
        }
      ]
    },
    {
      "cell_type": "code",
      "metadata": {
        "colab": {
          "base_uri": "https://localhost:8080/"
        },
        "id": "fijxV3EGyXF3",
        "outputId": "e7a60b5d-96aa-4e69-897b-d5c16567176f"
      },
      "source": [
        "if list1 == []:\n",
        "  print('List is empty')\n",
        "else:\n",
        "  print('List is not empty')"
      ],
      "execution_count": null,
      "outputs": [
        {
          "output_type": "stream",
          "text": [
            "List is not empty\n"
          ],
          "name": "stdout"
        }
      ]
    },
    {
      "cell_type": "code",
      "metadata": {
        "colab": {
          "base_uri": "https://localhost:8080/"
        },
        "id": "ZiKfMbiCy9z6",
        "outputId": "00113923-64bc-41b6-c310-8e49e4052932"
      },
      "source": [
        "if len(lst) == 0:\n",
        "  print('List is empty')\n",
        "else:\n",
        "  print('List is not empty')"
      ],
      "execution_count": null,
      "outputs": [
        {
          "output_type": "stream",
          "text": [
            "List is not empty\n"
          ],
          "name": "stdout"
        }
      ]
    },
    {
      "cell_type": "markdown",
      "metadata": {
        "id": "HinFcGIA0Ppz"
      },
      "source": [
        "6.\tHow to find the first and last element of the list? \\\\\n",
        "By list indexing and list slicing."
      ]
    },
    {
      "cell_type": "code",
      "metadata": {
        "colab": {
          "base_uri": "https://localhost:8080/"
        },
        "id": "SrjYDite1xPy",
        "outputId": "f40cd84d-2ea9-429c-f616-20622b3554fe"
      },
      "source": [
        "# List indexing\n",
        "print(\"The list is: \", lst)\n",
        "print(\"The first and last elements of the list are: \",[lst[0], lst[-1]])"
      ],
      "execution_count": null,
      "outputs": [
        {
          "output_type": "stream",
          "text": [
            "The list is:  ['Orage', 'Apple', 'Banana', True, 2, 2, True]\n",
            "The first and last elements of the list are:  ['Orage', True]\n"
          ],
          "name": "stdout"
        }
      ]
    },
    {
      "cell_type": "code",
      "metadata": {
        "colab": {
          "base_uri": "https://localhost:8080/"
        },
        "id": "2M3x_1XPziKH",
        "outputId": "da821aa8-4032-4035-cb5e-137085630552"
      },
      "source": [
        "# List slicing\n",
        "print(\"The first and last elements of the list are: \", lst[::len(lst)-1])"
      ],
      "execution_count": null,
      "outputs": [
        {
          "output_type": "stream",
          "text": [
            "The first and last elements of the list are:  ['Orage', True]\n"
          ],
          "name": "stdout"
        }
      ]
    },
    {
      "cell_type": "markdown",
      "metadata": {
        "id": "kZ5NSC4K4spz"
      },
      "source": [
        "7.\tHow to find the largest and lowest value in the list? \\\\\n",
        "By using max() and min() Functions"
      ]
    },
    {
      "cell_type": "code",
      "metadata": {
        "colab": {
          "base_uri": "https://localhost:8080/"
        },
        "id": "AdW_IPMf3Tdv",
        "outputId": "17d4cb44-2f63-4e4a-b573-0db1652b565d"
      },
      "source": [
        "lst1 = [48, 52, 24, 35, 17]\n",
        "print(\"The largest value is: \",max(lst1))\n",
        "print(\"The lowest value is: \",min(lst1))"
      ],
      "execution_count": null,
      "outputs": [
        {
          "output_type": "stream",
          "text": [
            "The largest value is:  52\n",
            "The lowest value is:  17\n"
          ],
          "name": "stdout"
        }
      ]
    },
    {
      "cell_type": "markdown",
      "metadata": {
        "id": "HAI-R3NO6KwO"
      },
      "source": [
        "8.\tHow to access elements of the list? \\\\\n",
        "Using indexing we can access the elements of the list"
      ]
    },
    {
      "cell_type": "code",
      "metadata": {
        "colab": {
          "base_uri": "https://localhost:8080/"
        },
        "id": "ugfRoC-45SVC",
        "outputId": "e73a66ed-5027-4000-d988-f9a027a03a86"
      },
      "source": [
        "print(\"Access the last element: \",lst[-1])\n",
        "print(\"Access the last 3 element: \",lst[-3:])\n",
        "print(\"Access the first 3 element: \",lst[0:3])"
      ],
      "execution_count": null,
      "outputs": [
        {
          "output_type": "stream",
          "text": [
            "Access the last element:  True\n",
            "Access the last 3 element:  [2, 2, True]\n",
            "Access the first 3 element:  ['Orage', 'Apple', 'Banana']\n"
          ],
          "name": "stdout"
        }
      ]
    },
    {
      "cell_type": "markdown",
      "metadata": {
        "id": "AC_B6KZO7vcP"
      },
      "source": [
        "9.\tRemove elements in a list before a specific index. \\\\\n",
        "By using del argument we can remove elements in a list before a specific index."
      ]
    },
    {
      "cell_type": "code",
      "metadata": {
        "id": "pImNnUdE6l3A"
      },
      "source": [
        "lst1 = [48, 52, 24, 35, 17]\n",
        "#Delete the elements 48, 52, and 24.\n",
        "del lst1[:3]\n",
        "print(lst1)\n"
      ],
      "execution_count": null,
      "outputs": []
    },
    {
      "cell_type": "markdown",
      "metadata": {
        "id": "PeAkX9yEKWeW"
      },
      "source": [
        "10.\tRemove elements in a list between 2 indices."
      ]
    },
    {
      "cell_type": "code",
      "metadata": {
        "colab": {
          "base_uri": "https://localhost:8080/"
        },
        "id": "XrqBySf06ogX",
        "outputId": "0f838d4c-52a6-43c0-b64e-396c66bd7a9a"
      },
      "source": [
        "lst1 = [48, 52, 24, 35, 17]\n",
        "#Delete the elements 52, and 24.\n",
        "del lst1[1:3]\n",
        "print(lst1)"
      ],
      "execution_count": null,
      "outputs": [
        {
          "output_type": "stream",
          "text": [
            "[48, 35, 17]\n"
          ],
          "name": "stdout"
        }
      ]
    },
    {
      "cell_type": "markdown",
      "metadata": {
        "id": "EY4Z57LoKiLo"
      },
      "source": [
        "11.\tReturn every 2nd element in a list between 2 indices"
      ]
    },
    {
      "cell_type": "code",
      "metadata": {
        "colab": {
          "base_uri": "https://localhost:8080/"
        },
        "id": "Y4ZGC-0-Ji2h",
        "outputId": "51c36876-fbdd-4df6-f23d-08fff358bb5b"
      },
      "source": [
        "lst1 = list(range(30,61))\n",
        "print(lst1)"
      ],
      "execution_count": null,
      "outputs": [
        {
          "output_type": "stream",
          "text": [
            "[30, 31, 32, 33, 34, 35, 36, 37, 38, 39, 40, 41, 42, 43, 44, 45, 46, 47, 48, 49, 50, 51, 52, 53, 54, 55, 56, 57, 58, 59, 60]\n"
          ],
          "name": "stdout"
        }
      ]
    },
    {
      "cell_type": "code",
      "metadata": {
        "colab": {
          "base_uri": "https://localhost:8080/"
        },
        "id": "iVG9W68COLq9",
        "outputId": "3ee1f1b5-9773-40ab-fd3a-29c2acbbf0f0"
      },
      "source": [
        "lst1[10:21:2] # Every second elemet of the list 'lst1' between 10 and 21 indices. "
      ],
      "execution_count": null,
      "outputs": [
        {
          "output_type": "execute_result",
          "data": {
            "text/plain": [
              "[40, 42, 44, 46, 48, 50]"
            ]
          },
          "metadata": {
            "tags": []
          },
          "execution_count": 96
        }
      ]
    },
    {
      "cell_type": "markdown",
      "metadata": {
        "id": "TMQLmTLMO9VQ"
      },
      "source": [
        "12.\tGet the first element from each nested list in a list"
      ]
    },
    {
      "cell_type": "code",
      "metadata": {
        "id": "vuwRGosUMp_N",
        "colab": {
          "base_uri": "https://localhost:8080/"
        },
        "outputId": "23dfff8c-15bf-4c4a-b908-e3f4163605df"
      },
      "source": [
        "lst2 = [[[1,2],[3,4]], [[5,6,7],[8,9,10]], [[12, 13, 14]]]\n",
        "print(lst2)\n",
        "for item in lst2:\n",
        "  print(item[0][0])"
      ],
      "execution_count": null,
      "outputs": [
        {
          "output_type": "stream",
          "text": [
            "[[[1, 2], [3, 4]], [[5, 6, 7], [8, 9, 10]], [[12, 13, 14]]]\n",
            "1\n",
            "5\n",
            "12\n"
          ],
          "name": "stdout"
        }
      ]
    },
    {
      "cell_type": "markdown",
      "metadata": {
        "id": "r51WN265rVsO"
      },
      "source": [
        "13.\tHow to modify elements of the list? \\\\\n",
        "By reffering to the index of each elements one can modify the elements of the list."
      ]
    },
    {
      "cell_type": "code",
      "metadata": {
        "id": "2Y8zNvHSV0bG",
        "colab": {
          "base_uri": "https://localhost:8080/"
        },
        "outputId": "80d05a73-2924-433c-eff9-b4eeb9834a30"
      },
      "source": [
        "lst = [\"Python\", \"Machine Learning\", \"Data Science\", \"Business Intelligence\"]\n",
        "print(lst)\n",
        "#I want to chance the element \"Data Science\" to \"Statistics\"\n",
        "lst[2]=\"Statistics\"\n",
        "print(\"Modified list is: \",lst)"
      ],
      "execution_count": null,
      "outputs": [
        {
          "output_type": "stream",
          "text": [
            "['Python', 'Machine Learning', 'Data Science', 'Business Intelligence']\n",
            "Modified list is:  ['Python', 'Machine Learning', 'Statistics', 'Business Intelligence']\n"
          ],
          "name": "stdout"
        }
      ]
    },
    {
      "cell_type": "markdown",
      "metadata": {
        "id": "QLLDMc7wxov2"
      },
      "source": [
        "14.\tHow to concatenate two lists?"
      ]
    },
    {
      "cell_type": "code",
      "metadata": {
        "id": "MssFionrqXIf",
        "colab": {
          "base_uri": "https://localhost:8080/"
        },
        "outputId": "cf793454-01ab-477c-c01c-71b736def8f6"
      },
      "source": [
        "lst = [\"Python\", \"Machine Learning\", \"Data Science\", \"Business Intelligence\"]\n",
        "print(lst)\n",
        "lst1 = [48, 52, 24, 35, 17]\n",
        "print(lst1)\n",
        "method1 = [*lst, *lst1]\n",
        "print(\"Concatenate of two lists is: \", method1)\n",
        "method2 = lst + lst1\n",
        "print(\"Concatenate of two lists is: \", method2)"
      ],
      "execution_count": null,
      "outputs": [
        {
          "output_type": "stream",
          "text": [
            "['Python', 'Machine Learning', 'Data Science', 'Business Intelligence']\n",
            "[48, 52, 24, 35, 17]\n",
            "Concatenate of two lists is:  ['Python', 'Machine Learning', 'Data Science', 'Business Intelligence', 48, 52, 24, 35, 17]\n",
            "Concatenate of two lists is:  ['Python', 'Machine Learning', 'Data Science', 'Business Intelligence', 48, 52, 24, 35, 17]\n"
          ],
          "name": "stdout"
        }
      ]
    },
    {
      "cell_type": "code",
      "metadata": {
        "id": "-ETDW0kWDlBz",
        "colab": {
          "base_uri": "https://localhost:8080/"
        },
        "outputId": "5f220f29-fc46-4da3-d510-ad36eb64d38e"
      },
      "source": [
        "#Concatenate of two lists through .append() function\n",
        "lst.append(lst1)  #Adding the whole list 'lst1' as a single list element to the list lst\n",
        "lst"
      ],
      "execution_count": null,
      "outputs": [
        {
          "output_type": "execute_result",
          "data": {
            "text/plain": [
              "['Python',\n",
              " 'Machine Learning',\n",
              " 'Data Science',\n",
              " 'Business Intelligence',\n",
              " [48, 52, 24, 35, 17]]"
            ]
          },
          "metadata": {
            "tags": []
          },
          "execution_count": 38
        }
      ]
    },
    {
      "cell_type": "code",
      "metadata": {
        "colab": {
          "base_uri": "https://localhost:8080/"
        },
        "id": "oUrDuvF0qFoO",
        "outputId": "284c8fe2-2ad6-4498-f87a-829d787e47c2"
      },
      "source": [
        "lst = [\"Python\", \"Machine Learning\", \"Data Science\", \"Business Intelligence\"]\n",
        "#Concatenate of two lists through .extend() function\n",
        "lst.extend(lst1) #Adding each element of 'lst1' list to the list 'lst'\n",
        "lst"
      ],
      "execution_count": null,
      "outputs": [
        {
          "output_type": "execute_result",
          "data": {
            "text/plain": [
              "['Python',\n",
              " 'Machine Learning',\n",
              " 'Data Science',\n",
              " 'Business Intelligence',\n",
              " 48,\n",
              " 52,\n",
              " 24,\n",
              " 35,\n",
              " 17]"
            ]
          },
          "metadata": {
            "tags": []
          },
          "execution_count": 40
        }
      ]
    },
    {
      "cell_type": "markdown",
      "metadata": {
        "id": "CX7PRzpB155v"
      },
      "source": [
        "15.\tHow to add two lists element-wise in python?"
      ]
    },
    {
      "cell_type": "code",
      "metadata": {
        "colab": {
          "base_uri": "https://localhost:8080/"
        },
        "id": "mA6g23A4qOPz",
        "outputId": "25961a9a-aeb9-463d-d116-95221436a808"
      },
      "source": [
        "lst1 = [25, 27, 34]\n",
        "lst2 = [42, 15, 36]\n",
        "\n",
        "add_list = [a + b for a, b in zip(lst1, lst2)]\n",
        "\n",
        "print(add_list)"
      ],
      "execution_count": null,
      "outputs": [
        {
          "output_type": "stream",
          "text": [
            "[67, 42, 70]\n"
          ],
          "name": "stdout"
        }
      ]
    },
    {
      "cell_type": "markdown",
      "metadata": {
        "id": "i2TwqPNx2tQi"
      },
      "source": [
        "16.\tDifference between del and clear? \\\\\n",
        "'del' keyword is used remove items by index or slice, if you don't specify the index or slice then the whole list will be deleted from the list. \\\\\n",
        "clear() method is used to empty the entire list. This argument returns the empty list."
      ]
    },
    {
      "cell_type": "code",
      "metadata": {
        "colab": {
          "base_uri": "https://localhost:8080/"
        },
        "id": "FpDJJkVwyTJd",
        "outputId": "9d9d0866-6cd8-4c7a-b31a-27fa84407978"
      },
      "source": [
        "lst1 = [\"Python\", \"Machine Learning\", \"Data Science\", \"Business Intelligence\", \"Goeduhub\"]\n",
        "lst2 = [48, 52, 24, 35, 17]\n",
        "del lst1[3]\n",
        "print(lst1)\n",
        "del lst1[0:3]\n",
        "print(lst1)\n",
        "lst2.clear()\n",
        "print(lst2)"
      ],
      "execution_count": null,
      "outputs": [
        {
          "output_type": "stream",
          "text": [
            "['Python', 'Machine Learning', 'Data Science', 'Goeduhub']\n",
            "['Goeduhub']\n",
            "[]\n"
          ],
          "name": "stdout"
        }
      ]
    },
    {
      "cell_type": "markdown",
      "metadata": {
        "id": "5qvEZbwx5GyD"
      },
      "source": [
        "17.\tDifference between remove and pop? \\\\\n",
        "remove() method uses the value as a parameter to delete the corresponding value from the list. \\\\\n",
        "pop() method uses the index as a parameter to delete the corresponding value from the list and it returns the element which is deleted from the list.\n"
      ]
    },
    {
      "cell_type": "code",
      "metadata": {
        "colab": {
          "base_uri": "https://localhost:8080/"
        },
        "id": "R3JrbALXyUJx",
        "outputId": "32cf7c3f-b83c-42b3-e887-aa5641f58dbd"
      },
      "source": [
        "lst1 = [\"Python\", \"Machine Learning\", \"Data Science\", \"Business Intelligence\", \"Goeduhub\"]\n",
        "lst2 = [48, 52, 24, 35, 17]\n",
        "lst1.remove(\"Data Science\")\n",
        "lst2.remove(52)\n",
        "lst1.pop(2)\n",
        "lst2.pop(0)\n",
        "print(lst1)\n",
        "print(lst2)"
      ],
      "execution_count": null,
      "outputs": [
        {
          "output_type": "stream",
          "text": [
            "['Python', 'Machine Learning', 'Goeduhub']\n",
            "[24, 35, 17]\n"
          ],
          "name": "stdout"
        }
      ]
    },
    {
      "cell_type": "markdown",
      "metadata": {
        "id": "wqdGSt4FAyw1"
      },
      "source": [
        "18.\tDifference between append and extend? \\\\\n",
        "append() method adds an element to a list. this method adds its argument as a single element to the end of a list, the length of the list itself will increase by one. \\\\\n",
        "extend() method concatenates the first list with another list (or another iterable). This method iterates over its argument adding each element to the list, extending the list. The length of the list will increase based on the size of the added list.\n"
      ]
    },
    {
      "cell_type": "markdown",
      "metadata": {
        "id": "RQ_OdOxIEf85"
      },
      "source": [
        "19.\tDifference between indexing and Slicing? \\\\\n",
        "Indexing means referring to a single element of an iterable by its position within the iterable. \\\\\n",
        "Slicing is similar to indexing but returns a sequence of items instead of a single item."
      ]
    },
    {
      "cell_type": "code",
      "metadata": {
        "colab": {
          "base_uri": "https://localhost:8080/"
        },
        "id": "6nuC972Sy2YP",
        "outputId": "b7e62d5e-4648-4fbe-db4f-fdcf064e4017"
      },
      "source": [
        "lst1 = [\"Python\", \"Machine Learning\", \"Data Science\", \"Business Intelligence\", \"Goeduhub\"]\n",
        "#indexing\n",
        "print(\"Indexing:\",lst1[-1])\n",
        "#slicing\n",
        "print(\"Slicing:\",lst1[:3])"
      ],
      "execution_count": null,
      "outputs": [
        {
          "output_type": "stream",
          "text": [
            "Indexing: Goeduhub\n",
            "Slicing: ['Python', 'Machine Learning', 'Data Science']\n"
          ],
          "name": "stdout"
        }
      ]
    },
    {
      "cell_type": "markdown",
      "metadata": {
        "id": "9e_sSbQNFiRq"
      },
      "source": [
        "20.\tDifference between sort and sorted? \\\\\n",
        "sort() function is very similar to sorted() but unlike sorted it returns nothing and makes changes to the original sequence. Moreover, sort() is a method of list class and can only be used with lists. \\\\\n",
        "sorted() method sorts the given sequence either in ascending order or in descending order and always return the a sorted list. This method doesnot effect the original sequence.\n"
      ]
    },
    {
      "cell_type": "code",
      "metadata": {
        "id": "Mobx_qfdG_LA"
      },
      "source": [
        "lst2 = [48, 52, 24, 35, 17]"
      ],
      "execution_count": null,
      "outputs": []
    },
    {
      "cell_type": "code",
      "metadata": {
        "colab": {
          "base_uri": "https://localhost:8080/"
        },
        "id": "1SZG1gFtzIQI",
        "outputId": "9333f7dc-b84b-44c4-a979-da5519ba83cf"
      },
      "source": [
        "sorted(lst2)"
      ],
      "execution_count": null,
      "outputs": [
        {
          "output_type": "execute_result",
          "data": {
            "text/plain": [
              "[17, 24, 35, 48, 52]"
            ]
          },
          "metadata": {
            "tags": []
          },
          "execution_count": 69
        }
      ]
    },
    {
      "cell_type": "code",
      "metadata": {
        "colab": {
          "base_uri": "https://localhost:8080/"
        },
        "id": "uWJAk2ho_e60",
        "outputId": "3e8d686b-736a-4183-af0a-495788ac6704"
      },
      "source": [
        "lst2"
      ],
      "execution_count": null,
      "outputs": [
        {
          "output_type": "execute_result",
          "data": {
            "text/plain": [
              "[48, 52, 24, 35, 17]"
            ]
          },
          "metadata": {
            "tags": []
          },
          "execution_count": 70
        }
      ]
    },
    {
      "cell_type": "code",
      "metadata": {
        "id": "v06NCECX_8Za"
      },
      "source": [
        "lst2.sort(reverse=True)"
      ],
      "execution_count": null,
      "outputs": []
    },
    {
      "cell_type": "code",
      "metadata": {
        "colab": {
          "base_uri": "https://localhost:8080/"
        },
        "id": "lGa6J1UWGaHf",
        "outputId": "109e98df-df77-4cd4-f59f-5570b05d249c"
      },
      "source": [
        "lst2"
      ],
      "execution_count": null,
      "outputs": [
        {
          "output_type": "execute_result",
          "data": {
            "text/plain": [
              "[52, 48, 35, 24, 17]"
            ]
          },
          "metadata": {
            "tags": []
          },
          "execution_count": 72
        }
      ]
    },
    {
      "cell_type": "markdown",
      "metadata": {
        "id": "QDv1_PcmHKsM"
      },
      "source": [
        "21.\tDifference between reverse and reversed?"
      ]
    },
    {
      "cell_type": "code",
      "metadata": {
        "colab": {
          "base_uri": "https://localhost:8080/"
        },
        "id": "joVaGM0iGuD1",
        "outputId": "30bc33ce-f5b2-41c7-df91-147b1590c638"
      },
      "source": [
        "\n",
        "# Python3 program to demonstrate the \n",
        "# use of reverse method \n",
        "   \n",
        "# a list of numbers\n",
        "list1 = [1, 2, 3, 4, 1, 2, 6] \n",
        "list1 = reversed(list1)\n",
        "print(list1) \n",
        "  \n",
        "# a list of characters\n",
        "list2 = ['a', 'b', 'c', 'd', 'a', 'a'] \n",
        "list2 = reversed(list2) \n",
        "print(list2) "
      ],
      "execution_count": null,
      "outputs": [
        {
          "output_type": "stream",
          "text": [
            "<list_reverseiterator object at 0x7ff30dd8e210>\n",
            "<list_reverseiterator object at 0x7ff30dd8e710>\n"
          ],
          "name": "stdout"
        }
      ]
    },
    {
      "cell_type": "markdown",
      "metadata": {
        "id": "jZxbtsWvJkks"
      },
      "source": [
        "22.\tDifference between copy and deepcopy? \\\\\n",
        "A shallow copy constructs a new compound object and then (to the extent possible) inserts references into it to the objects found in the original. \\\\\n",
        "A deep copy constructs a new compound object and then, recursively, inserts copies into it of the objects found in the original."
      ]
    },
    {
      "cell_type": "code",
      "metadata": {
        "colab": {
          "base_uri": "https://localhost:8080/",
          "height": 0
        },
        "id": "sb-tlXPcw7gk",
        "outputId": "b15c989e-46f7-465a-9314-910d5725c9fe"
      },
      "source": [
        "#Shallow copy\n",
        "a = [[1, 2, 3], [4, 5, 6], [7, 8, 9]]\n",
        "b = list(a)\n",
        "print(a)\n",
        "print(b)"
      ],
      "execution_count": 7,
      "outputs": [
        {
          "output_type": "stream",
          "text": [
            "[[1, 2, 3], [4, 5, 6], [7, 8, 9]]\n",
            "[[1, 2, 3], [4, 5, 6], [7, 8, 9]]\n"
          ],
          "name": "stdout"
        }
      ]
    },
    {
      "cell_type": "code",
      "metadata": {
        "colab": {
          "base_uri": "https://localhost:8080/",
          "height": 0
        },
        "id": "LhAo7-XixWnb",
        "outputId": "e42b646f-636b-4254-b645-2813ed9fb542"
      },
      "source": [
        "a[1][1] = True\n",
        "print(a)\n",
        "print(b)\n",
        "#In shallow copy the changes made in intial list will be affected on the copied list"
      ],
      "execution_count": 8,
      "outputs": [
        {
          "output_type": "stream",
          "text": [
            "[[1, 2, 3], [4, True, 6], [7, 8, 9]]\n",
            "[[1, 2, 3], [4, True, 6], [7, 8, 9]]\n"
          ],
          "name": "stdout"
        }
      ]
    },
    {
      "cell_type": "code",
      "metadata": {
        "colab": {
          "base_uri": "https://localhost:8080/",
          "height": 0
        },
        "id": "7klt-8nhw7Sd",
        "outputId": "0f256669-837a-4c58-8f0e-2c933a5c1b8a"
      },
      "source": [
        "#Deep copy\n",
        "import copy\n",
        "a = [[1, 2, 3], [4, 5, 6], [7, 8, 9]]\n",
        "b = copy.deepcopy(a)\n",
        "print(a)\n",
        "print(b)"
      ],
      "execution_count": 4,
      "outputs": [
        {
          "output_type": "stream",
          "text": [
            "[[1, 2, 3], [4, 5, 6], [7, 8, 9]]\n",
            "[[1, 2, 3], [4, 5, 6], [7, 8, 9]]\n"
          ],
          "name": "stdout"
        }
      ]
    },
    {
      "cell_type": "code",
      "metadata": {
        "colab": {
          "base_uri": "https://localhost:8080/",
          "height": 0
        },
        "id": "eme9jGq4xojx",
        "outputId": "3f106f5a-ff0a-4931-d97b-e6210d3f0e43"
      },
      "source": [
        "a[1][1] = True\n",
        "print(a)\n",
        "print(b)\n",
        "#In deep copy the changes made in intial list will not be affected on the copied list"
      ],
      "execution_count": 5,
      "outputs": [
        {
          "output_type": "stream",
          "text": [
            "[[1, 2, 3], [4, True, 6], [7, 8, 9]]\n",
            "[[1, 2, 3], [4, 5, 6], [7, 8, 9]]\n"
          ],
          "name": "stdout"
        }
      ]
    },
    {
      "cell_type": "markdown",
      "metadata": {
        "id": "UEOsZpbgQ0Ml"
      },
      "source": [
        "23.\tHow to remove duplicate elements in the list?"
      ]
    },
    {
      "cell_type": "code",
      "metadata": {
        "colab": {
          "base_uri": "https://localhost:8080/"
        },
        "id": "bqKvqw7gIVI-",
        "outputId": "ee50c12a-6272-42a4-988d-9e77b820d563"
      },
      "source": [
        "lst1 = [2, 5, 9, 2, 4, 5, 2, 1]\n",
        "lst1 = list(dict.fromkeys(lst1))\n",
        "print(lst1)"
      ],
      "execution_count": null,
      "outputs": [
        {
          "output_type": "stream",
          "text": [
            "[2, 5, 9, 4, 1]\n"
          ],
          "name": "stdout"
        }
      ]
    },
    {
      "cell_type": "markdown",
      "metadata": {
        "id": "Zny3zoJWTNhX"
      },
      "source": [
        "24.\tHow to find an index of an element in the python list?"
      ]
    },
    {
      "cell_type": "code",
      "metadata": {
        "colab": {
          "base_uri": "https://localhost:8080/"
        },
        "id": "kMWaPdFlR2Ft",
        "outputId": "86d79ba3-b706-44d4-b733-6606379e64ff"
      },
      "source": [
        "lst1 = [\"Python\", \"Machine Learning\", \"Data Science\", \"Business Intelligence\", \"Goeduhub\"]\n",
        "lst1.index(\"Goeduhub\") #index of \"Goeduhub\" element in the list 'lst1'."
      ],
      "execution_count": null,
      "outputs": [
        {
          "output_type": "execute_result",
          "data": {
            "text/plain": [
              "4"
            ]
          },
          "metadata": {
            "tags": []
          },
          "execution_count": 83
        }
      ]
    },
    {
      "cell_type": "markdown",
      "metadata": {
        "id": "hISX5HRQVBE7"
      },
      "source": [
        "25.\tHow to find the occurrences of an element in the python list? \\\\\n",
        "By using the .count() argument."
      ]
    },
    {
      "cell_type": "code",
      "metadata": {
        "id": "ELfl7vObUdyh",
        "colab": {
          "base_uri": "https://localhost:8080/",
          "height": 0
        },
        "outputId": "253f2a36-f0e1-4f33-f0dc-abedacf68b2e"
      },
      "source": [
        "a = [15, 12, 18, 23, 18, 56, 18, 22]\n",
        "a.count(18)"
      ],
      "execution_count": 9,
      "outputs": [
        {
          "output_type": "execute_result",
          "data": {
            "text/plain": [
              "3"
            ]
          },
          "metadata": {
            "tags": []
          },
          "execution_count": 9
        }
      ]
    },
    {
      "cell_type": "markdown",
      "metadata": {
        "id": "gc7vAwOCzhNo"
      },
      "source": [
        "26.\tHow to insert an item at a given position? \\\\\n",
        "By using .insert() argument."
      ]
    },
    {
      "cell_type": "code",
      "metadata": {
        "colab": {
          "base_uri": "https://localhost:8080/",
          "height": 0
        },
        "id": "TfJ2dewmzgq-",
        "outputId": "d310f88c-0860-4693-9ec5-a026e991a069"
      },
      "source": [
        "a = [15, 12, 18, 23, 18, 56, 18, 22]\n",
        "a.insert(2, 'goeduhub')  #Inserting the \"goeduhub\" at the second index of the list 'a'. \n",
        "print(a)"
      ],
      "execution_count": 12,
      "outputs": [
        {
          "output_type": "stream",
          "text": [
            "[15, 12, 'goeduhub', 18, 23, 18, 56, 18, 22]\n"
          ],
          "name": "stdout"
        }
      ]
    },
    {
      "cell_type": "markdown",
      "metadata": {
        "id": "rHlqi0YY0zN4"
      },
      "source": [
        "27.\tHow to check if an item is in the list?"
      ]
    },
    {
      "cell_type": "code",
      "metadata": {
        "colab": {
          "base_uri": "https://localhost:8080/",
          "height": 0
        },
        "id": "JMJaq1eMzqlE",
        "outputId": "ea4976fd-791a-4233-e15e-96c5f4f97fbf"
      },
      "source": [
        "a = [15, 12, 18, 23, 18, 56, 18, 22]\n",
        "ele = int(input(\"Enter the value to be checked: \"))\n",
        "if a.count(ele)==0:\n",
        "  print(\"The element is not in the list\")\n",
        "else:\n",
        "  print(\"The element is in the list\")\n"
      ],
      "execution_count": 15,
      "outputs": [
        {
          "output_type": "stream",
          "text": [
            "Enter the value to be checked: 25\n",
            "The element is not in the list\n"
          ],
          "name": "stdout"
        }
      ]
    },
    {
      "cell_type": "markdown",
      "metadata": {
        "id": "UG_K9LcuFCye"
      },
      "source": [
        "28.\tHow to flatten a list in python? \\\\\n",
        "A Python list can contain multiple dimensions. This means that you have a list within lists. These lists, sometimes referred to as ‘nested lists,” can be converted back into a regular list."
      ]
    },
    {
      "cell_type": "code",
      "metadata": {
        "colab": {
          "base_uri": "https://localhost:8080/",
          "height": 0
        },
        "id": "sHE96jt7E6gX",
        "outputId": "f0a31cbe-c20b-4d0d-b206-a0e0d6a207cf"
      },
      "source": [
        "import itertools\n",
        "a = [[1, 2, 3], [4, 5, 6], [7, 8, 9]]\n",
        "\n",
        "b = itertools.chain(*a)\n",
        "print(list(b))"
      ],
      "execution_count": 18,
      "outputs": [
        {
          "output_type": "stream",
          "text": [
            "[1, 2, 3, 4, 5, 6, 7, 8, 9]\n"
          ],
          "name": "stdout"
        }
      ]
    },
    {
      "cell_type": "markdown",
      "metadata": {
        "id": "SLZzJQQoGw5f"
      },
      "source": [
        "29.\tHow to convert python list to other data structures like set, tuple, dictionary?"
      ]
    },
    {
      "cell_type": "code",
      "metadata": {
        "colab": {
          "base_uri": "https://localhost:8080/",
          "height": 0
        },
        "id": "3qF297AJGXJn",
        "outputId": "13dcb111-d40e-4287-b48a-3e26e6a313e2"
      },
      "source": [
        "#List to set\n",
        "setofprice = set(prices)\n",
        "print(setofprice)"
      ],
      "execution_count": 20,
      "outputs": [
        {
          "output_type": "stream",
          "text": [
            "{40, 35, 28}\n"
          ],
          "name": "stdout"
        }
      ]
    },
    {
      "cell_type": "code",
      "metadata": {
        "colab": {
          "base_uri": "https://localhost:8080/",
          "height": 0
        },
        "id": "O7zvTr-cIsJx",
        "outputId": "d2e8f302-b515-4b33-90a9-db2dc6ed87df"
      },
      "source": [
        "#List to tuple\n",
        "tup = tuple(prices)\n",
        "print(tup)"
      ],
      "execution_count": 21,
      "outputs": [
        {
          "output_type": "stream",
          "text": [
            "(35, 40, 40, 28)\n"
          ],
          "name": "stdout"
        }
      ]
    },
    {
      "cell_type": "code",
      "metadata": {
        "colab": {
          "base_uri": "https://localhost:8080/",
          "height": 0
        },
        "id": "W9Zcc9s4GTp2",
        "outputId": "9fbef46e-23dc-4449-eefa-58e778bb5c06"
      },
      "source": [
        "#List to dictionary\n",
        "Juices = [\"Apple\", \"Pear\", \"Peach\", \"Banana\"]\n",
        "prices = [35, 40, 40, 28]\n",
        "\n",
        "Juice_dictionary = dict(zip(Juices, prices))\n",
        "\n",
        "print(Juice_dictionary)"
      ],
      "execution_count": 19,
      "outputs": [
        {
          "output_type": "stream",
          "text": [
            "{'Apple': 35, 'Pear': 40, 'Peach': 40, 'Banana': 28}\n"
          ],
          "name": "stdout"
        }
      ]
    },
    {
      "cell_type": "markdown",
      "metadata": {
        "id": "jr5rCwjqJQPN"
      },
      "source": [
        "30.\tHow to apply a function to all items in the list?"
      ]
    },
    {
      "cell_type": "code",
      "metadata": {
        "colab": {
          "base_uri": "https://localhost:8080/",
          "height": 0
        },
        "id": "fcx8Nx9HJTrK",
        "outputId": "fdf56d64-c6fc-4100-a9da-b765eadb85d8"
      },
      "source": [
        "Juices = [\"Apple\", \"Pear\", \"Peach\", \"Banana\"]\n",
        "output_list = list(map(str.upper, Juices))\n",
        "  \n",
        "print(output_list)"
      ],
      "execution_count": 23,
      "outputs": [
        {
          "output_type": "stream",
          "text": [
            "['APPLE', 'PEAR', 'PEACH', 'BANANA']\n"
          ],
          "name": "stdout"
        }
      ]
    },
    {
      "cell_type": "markdown",
      "metadata": {
        "id": "iFP-3LTyKPB_"
      },
      "source": [
        "31.\tHow to filter the elements based on a function in a python list?\n"
      ]
    },
    {
      "cell_type": "code",
      "metadata": {
        "colab": {
          "base_uri": "https://localhost:8080/",
          "height": 0
        },
        "id": "hBZMqL7kKJ1W",
        "outputId": "7a84b141-528a-4da5-b776-dd48c7f9acaa"
      },
      "source": [
        "prices = [30, 60, 65, 20, 50, 15, 25]\n",
        "filtered = filter(lambda price: price >= 50, prices)\n",
        "\n",
        "print(list(filtered))"
      ],
      "execution_count": 24,
      "outputs": [
        {
          "output_type": "stream",
          "text": [
            "[60, 65, 50]\n"
          ],
          "name": "stdout"
        }
      ]
    },
    {
      "cell_type": "markdown",
      "metadata": {
        "id": "D0qtAU8cQVWE"
      },
      "source": [
        "32.\tHow python lists are stored in memory? \\\\\n",
        "The list is the fundamental linked data structure. Therefore, a list is stored as distinct blocks of memory bound together by pointers."
      ]
    }
  ]
}